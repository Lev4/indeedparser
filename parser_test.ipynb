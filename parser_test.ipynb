{
 "cells": [
  {
   "cell_type": "code",
   "execution_count": 257,
   "metadata": {},
   "outputs": [],
   "source": [
    "import iparser\n",
    "import importlib\n",
    "import pickle\n",
    "import spacy\n",
    "import tqdm\n",
    "import utils \n",
    "from spacy.lang.en import English\n",
    "from spacy.matcher import Matcher\n",
    "nlp = spacy.load('en_core_web_sm')"
   ]
  },
  {
   "cell_type": "code",
   "execution_count": 286,
   "metadata": {},
   "outputs": [],
   "source": [
    "importlib.reload(utils)\n",
    "pdict = utils.patterns_dict"
   ]
  },
  {
   "cell_type": "markdown",
   "metadata": {},
   "source": [
    "## Топ профессий:\n",
    "\n",
    " \n",
    "\n",
    "* Java разработчик/Software engineer\n",
    "* Front-end разработчик/Web разработчик\n",
    "* Продуктовый дизайнер\n",
    "* Системный аналитик\n",
    "* Архитектор систем\n",
    "* Agile coach (под вопросом?)\n",
    "* Data Scientist\n",
    "* Data engineer\n",
    "* Бизнес-аналитик\n",
    "* Финансовый аналитик\n",
    "* Кредитный аналитик\n",
    "* Юрист (корпоративный, судебный)\n",
    "* Маркетолог\n",
    " \n",
    "\n",
    " "
   ]
  },
  {
   "cell_type": "code",
   "execution_count": 2,
   "metadata": {},
   "outputs": [],
   "source": [
    "with open(\"london.pkl\", \"rb\") as f:\n",
    "    vacancy_dict = pickle.load(f)"
   ]
  },
  {
   "cell_type": "code",
   "execution_count": 72,
   "metadata": {},
   "outputs": [],
   "source": [
    "# list(vacancy_dict.keys())"
   ]
  },
  {
   "cell_type": "code",
   "execution_count": 4,
   "metadata": {},
   "outputs": [
    {
     "name": "stdout",
     "output_type": "stream",
     "text": [
      "Java Developer :716\n",
      "Software engineer:866\n",
      "Web Developer:738\n",
      "Front-end Developer:547\n",
      "Product Designer:689\n",
      "System analyst:775\n",
      "System architect:673\n",
      "Agile coach:227\n",
      "Data Scientist:385\n",
      "Data engineer:787\n",
      "Business-analyst:353\n",
      "Financial analyst:387\n",
      "Credit analyst:166\n",
      "Corporate lawyer:298\n",
      "Judicial Lawyer:14\n",
      "Marketing Manager:670\n",
      "Marketing Specialist:700\n"
     ]
    }
   ],
   "source": [
    "for k,v in vacancy_dict.items():\n",
    "    print(f\"{k}:{len(v)}\")"
   ]
  },
  {
   "cell_type": "code",
   "execution_count": 5,
   "metadata": {},
   "outputs": [],
   "source": [
    "nlp = English()"
   ]
  },
  {
   "cell_type": "code",
   "execution_count": 218,
   "metadata": {},
   "outputs": [
    {
     "data": {
      "text/plain": [
       "Data Scientist- Permanent - London\n",
       "£50-70k (dependant on experience)\n",
       "A highly successful and scaling start-up is experiencing a rapid period of growth due to an influx of projects from clients. Therefore, they require a number of Data Scientists, ranging from Mid-Senior.\n",
       "Day to day:\n",
       "Developing algorithms to reduce travel delays and improving 3rd party network capacity\n",
       "Performing exploratory data analysis of train movement and signalling system data across a key UK transport network. Designing experiments and interpret the results to draw detailed and actionable conclusions\n",
       "Working closely with 3rd party operational performance teams to develop algorithms for extracting valuable insights from operational data\n",
       "Working with our software engineers and data scientists on the team to rapidly build, test and deploy robust algorithms and data analytic solutions.\n",
       "Required Skills:\n",
       "At least 3+ years R&D experience in industry or academia. Holding at least an BSc, and preferably a MSc/ PhD in a science such as Physics, Statistics, Computer Science or Mathematics.\n",
       "2+ years experience with Python.\n",
       "1+ year experience with Pandas or Numpy.\n",
       "Exposure to Matplotlib / NetworkX.\n",
       "Experience handling large datasets and big data tools - i.e. Apache Spark/Scala - and/or task parallelisation libraries such as Dask.\n",
       "Nice to have:\n",
       "Data visualisation libraries/ platforms such as MS Power BI\n",
       "Experience of Data Engineering on the cloud infrastructure, a familiarity with GCP.\n",
       "Understanding of Machine Learning models and concepts.\n",
       "Knowledge or experience with R programming language.\n",
       "To apply for this Data Scientist position, please send your CV via the application process or email me at tom.pocock@gcsrecruitment.com\n",
       "GCS Computer Recruitment Services is acting as an Employment Agency in relation to this vacancy."
      ]
     },
     "execution_count": 218,
     "metadata": {},
     "output_type": "execute_result"
    }
   ],
   "source": [
    "s = vacancy_dict['Data Scientist'][1]\n",
    "doc = nlp(s)\n",
    "doc"
   ]
  },
  {
   "cell_type": "code",
   "execution_count": 249,
   "metadata": {},
   "outputs": [
    {
     "data": {
      "application/vnd.jupyter.widget-view+json": {
       "model_id": "5f5219d32907432e8a9f6175b7db6f43",
       "version_major": 2,
       "version_minor": 0
      },
      "text/plain": [
       "HBox(children=(FloatProgress(value=0.0, max=385.0), HTML(value='')))"
      ]
     },
     "metadata": {},
     "output_type": "display_data"
    },
    {
     "name": "stdout",
     "output_type": "stream",
     "text": [
      "\n"
     ]
    }
   ],
   "source": [
    "reqs = []\n",
    "for s in tqdm.notebook.tqdm(vacancy_dict['Data Scientist']):\n",
    "    doc = nlp(s)\n",
    "    res = requirements_extractor(doc)\n",
    "    if res:\n",
    "        if len(res) > 4:\n",
    "#             print(\"_\"*10)\n",
    "#             print(res)\n",
    "#             print(len(res))\n",
    "            reqs.append(res)"
   ]
  },
  {
   "cell_type": "code",
   "execution_count": 251,
   "metadata": {},
   "outputs": [
    {
     "data": {
      "text/plain": [
       "73"
      ]
     },
     "execution_count": 251,
     "metadata": {},
     "output_type": "execute_result"
    }
   ],
   "source": [
    "len(reqs)"
   ]
  },
  {
   "cell_type": "code",
   "execution_count": 194,
   "metadata": {},
   "outputs": [
    {
     "data": {
      "text/plain": [
       "requirements of the role and your motivation behind applying.\n"
      ]
     },
     "execution_count": 194,
     "metadata": {},
     "output_type": "execute_result"
    }
   ],
   "source": [
    "reqs[5]"
   ]
  },
  {
   "cell_type": "code",
   "execution_count": 166,
   "metadata": {},
   "outputs": [],
   "source": [
    "requirements_extractor(doc)"
   ]
  },
  {
   "cell_type": "code",
   "execution_count": 254,
   "metadata": {},
   "outputs": [],
   "source": [
    "s = vacancy_dict['Data Scientist'][30]\n",
    "doc = nlp(s)\n",
    "# doc"
   ]
  },
  {
   "cell_type": "code",
   "execution_count": null,
   "metadata": {},
   "outputs": [],
   "source": [
    "matcher = Matcher(nlp.vocab)\n",
    "\n",
    "pattern = [\n",
    "    {'LEMMA':'requirement'},\n",
    "    {'LEMMA':'skills'},\n",
    "    {'LEMMA':'experience'},\n",
    "]"
   ]
  },
  {
   "cell_type": "code",
   "execution_count": 261,
   "metadata": {},
   "outputs": [],
   "source": [
    "for el in pdict.values():\n",
    "    matcher.add('REQ_PATTERN', None, el)"
   ]
  },
  {
   "cell_type": "code",
   "execution_count": 150,
   "metadata": {},
   "outputs": [],
   "source": [
    "# doc[502:]"
   ]
  },
  {
   "cell_type": "code",
   "execution_count": 116,
   "metadata": {},
   "outputs": [
    {
     "name": "stdout",
     "output_type": "stream",
     "text": [
      "Accountabilities 600\n"
     ]
    }
   ],
   "source": [
    "c = 0\n",
    "for el in doc[502:]:\n",
    "    if len(el.text.split(\"\\n\")) > 2 and (el.i) < len(doc):\n",
    "        print(doc[el.i+1], el.i+1)\n",
    "        c = el.i + 1\n",
    "        break\n"
   ]
  },
  {
   "cell_type": "code",
   "execution_count": null,
   "metadata": {},
   "outputs": [],
   "source": []
  },
  {
   "cell_type": "code",
   "execution_count": 124,
   "metadata": {},
   "outputs": [
    {
     "data": {
      "text/plain": [
       "Requirements:\n",
       "A Finance/Economics/Business/Mathematics graduate\n",
       "A demonstrated interest and knowledge in the financial markets\n",
       "A proven record of outstanding achievement in academic and extracurricular activities\n",
       "An independent thinker and decision maker who is able to contribute effectively to the team's success\n",
       "Superior interpersonal and analytical skills\n",
       "Ability to meet the challenges presented by a stressful, constantly changing work environment.\n",
       "Ideally available to start asap – individual will be expected to go to Toronto for training 13th August for 2 wks.\n",
       "\n",
       "\n",
       "\n",
       "\n"
      ]
     },
     "execution_count": 124,
     "metadata": {},
     "output_type": "execute_result"
    }
   ],
   "source": [
    "doc[matches[0][1]:c]"
   ]
  },
  {
   "cell_type": "code",
   "execution_count": 288,
   "metadata": {},
   "outputs": [],
   "source": [
    "matcher = Matcher(nlp.vocab)\n",
    "for el in pdict.values():\n",
    "    matcher.add('REQ_PATTERN', None, el)"
   ]
  },
  {
   "cell_type": "code",
   "execution_count": 308,
   "metadata": {},
   "outputs": [],
   "source": [
    "def requirements_extractor(doc, matcher=matcher):\n",
    "    endpos = None\n",
    "    matches = matcher(doc)\n",
    "        \n",
    "    if len(matches) > 0 :\n",
    "        startpos = matches[0][1]\n",
    "        for el in doc[startpos:]:\n",
    "            if len(el.text.split(\"\\n\")) > 2 and (el.i) < len(doc):\n",
    "#                 print(doc[el.i+1], el.i+1)\n",
    "                endpos = el.i + 1\n",
    "                break\n",
    "    if endpos:\n",
    "        return doc[startpos:endpos]\n",
    "    else:\n",
    "        return None\n",
    "    "
   ]
  },
  {
   "cell_type": "code",
   "execution_count": 309,
   "metadata": {},
   "outputs": [
    {
     "data": {
      "application/vnd.jupyter.widget-view+json": {
       "model_id": "c62ca45c30d44dffa94b776cda8d3b9b",
       "version_major": 2,
       "version_minor": 0
      },
      "text/plain": [
       "HBox(children=(FloatProgress(value=0.0, max=385.0), HTML(value='')))"
      ]
     },
     "metadata": {},
     "output_type": "display_data"
    },
    {
     "name": "stdout",
     "output_type": "stream",
     "text": [
      "\n",
      "Удалось извлечь потенциальных скилов 101 шт.\n"
     ]
    }
   ],
   "source": [
    "reqs = []\n",
    "for s in tqdm.notebook.tqdm(vacancy_dict['Data Scientist']):\n",
    "    doc = nlp(s)\n",
    "    res = requirements_extractor(doc)\n",
    "    if res:\n",
    "        if len(res) > 4:\n",
    "#             print(\"_\"*10)\n",
    "#             print(res)\n",
    "#             print(len(res))\n",
    "            reqs.append(res)\n",
    "print(f\"Удалось извлечь потенциальных скилов {len(reqs)} шт.\")"
   ]
  },
  {
   "cell_type": "code",
   "execution_count": null,
   "metadata": {},
   "outputs": [],
   "source": []
  },
  {
   "cell_type": "code",
   "execution_count": 305,
   "metadata": {},
   "outputs": [
    {
     "data": {
      "text/plain": [
       "Requirements:\n",
       "Must Have:\n"
      ]
     },
     "execution_count": 305,
     "metadata": {},
     "output_type": "execute_result"
    }
   ],
   "source": [
    "reqs[29]"
   ]
  },
  {
   "cell_type": "code",
   "execution_count": null,
   "metadata": {},
   "outputs": [],
   "source": []
  },
  {
   "cell_type": "code",
   "execution_count": 148,
   "metadata": {
    "scrolled": true
   },
   "outputs": [
    {
     "name": "stdout",
     "output_type": "stream",
     "text": [
      "https://www.indeed.co.uk/jobs?q=Credit+analyst&l=London\n"
     ]
    },
    {
     "data": {
      "application/vnd.jupyter.widget-view+json": {
       "model_id": "e198718129ff45789903ce0e0273ad7c",
       "version_major": 2,
       "version_minor": 0
      },
      "text/plain": [
       "HBox(children=(FloatProgress(value=0.0, max=158.0), HTML(value='')))"
      ]
     },
     "metadata": {},
     "output_type": "display_data"
    },
    {
     "name": "stdout",
     "output_type": "stream",
     "text": [
      "\n"
     ]
    }
   ],
   "source": [
    "importlib.reload(iparser)\n",
    "\n",
    "parsed_dict = {\"Agile coach\": iparser.IndeedParser(keywords=\"Credit analyst\", region=\"London\")}\n",
    "for prof_parser in parsed_dict.values():\n",
    "    prof_parser.start()\n",
    "for prof_parser in parsed_dict.values():\n",
    "    prof_parser.join()\n",
    "\n",
    "vacs_dict = {}\n",
    "for k, v in parsed_dict.items():\n",
    "    vacs_dict[k] = v.vacancy_texts"
   ]
  },
  {
   "cell_type": "code",
   "execution_count": 161,
   "metadata": {},
   "outputs": [],
   "source": [
    "bv = vacs_dict['Agile coach'][2]"
   ]
  },
  {
   "cell_type": "code",
   "execution_count": 162,
   "metadata": {},
   "outputs": [],
   "source": [
    "docbv = nlp(bv)"
   ]
  },
  {
   "cell_type": "code",
   "execution_count": 163,
   "metadata": {},
   "outputs": [
    {
     "data": {
      "text/plain": [
       "Global Markets (Credit Products), High Yield Sector Strategist, VP, London, #152732\n",
       "United Kingdom-London-London | Full-time (FT) | Global Markets | Job ID 152732\n",
       "Credit Suisse is a leading global wealth manager with strong investment banking capabilities. Headquartered in Zurich, Switzerland, we have a global reach with operations in about 50 countries and employ more than 45,000 people from over 150 different nations. Embodying entrepreneurial spirit, Credit Suisse delivers holistic financial solutions to our clients, including innovative products and specially tailored advice. Striving for quality and excellence in our work, we recognize and reward extraordinary performance among our employees, provide wide-ranging training and development opportunities, and benefit from a diverse range of perspectives to create value for our clients, shareholders and communities. We are Credit Suisse.\n",
       "We Offer\n",
       "\n",
       "The Credit Suisse leverage finance trading desk is looking for a desk analyst at the VP/Director level. The desk is a leading market maker with a top 3 position across European High Yield and CDS. The desk sits on the fixed income floor and is part of Global Markets.\n",
       "\n",
       "\n",
       "The desk analyst role involves:\n",
       "Expressing credit views on HY issuers based on fundamental credit analysis.\n",
       "Provide executable trade ideas base on a deep understanding of industry trends, capital structure, relative value and event driven catalysts across cash and CDS.\n",
       "In addition, you will be monitoring news flow; share trade ideas and company specific commentaries and closely engage with trading, our institutional client base and assist our cap markets on primary market activity.\n",
       "The overall objective is to formulate and update investment recommendations both to the traders and the desk’s clients (including mutual funds, pension funds and hedge funds).\n",
       "We are opportunistic regarding sector focus. This gives our analysts a broader perspective on companies and allows them to select which companies they focus on.\n",
       "We work across Credit Default Swaps (CDS), Secured or Unsecured bonds, loans or PIK (paid in Kind) debt.\n",
       "The role is not a Mifid II publishing research role since desk analysts are not considered independent, given they work closely with the traders\n",
       "You Offer\n",
       "\n",
       "Requirements:\n",
       "\n",
       "\n",
       "Deep understanding of financial statement analysis, financial modelling, corporate finance and accounting.\n",
       "Familiarity with European HY bond structure and legal documentation.\n",
       "Excellent communication skills and attention to detail.\n",
       "Ability to assess risk/reward trade off and formulate executable trade ideas.\n",
       "Ability to carry out complex analysis in a fast paced environment.\n",
       "\n",
       "This role will require ongoing certification under the Certification Regime.\n",
       "\n",
       "Credit Suisse is an equal opportunity employer. Welcoming diversity gives us a competitive advantage in the global marketplace and drives our success."
      ]
     },
     "execution_count": 163,
     "metadata": {},
     "output_type": "execute_result"
    }
   ],
   "source": [
    "docbv"
   ]
  },
  {
   "cell_type": "code",
   "execution_count": 157,
   "metadata": {},
   "outputs": [
    {
     "name": "stdout",
     "output_type": "stream",
     "text": [
      "Our\n",
      "client\n",
      "is\n",
      "an\n",
      "opportunistic\n",
      "debt\n",
      "and\n",
      "equity\n",
      "investor\n",
      ".\n",
      "Operating\n",
      "across\n",
      "the\n",
      "capital\n",
      "structure\n",
      ",\n",
      "they\n",
      "are\n",
      "seeking\n",
      "candidates\n",
      "with\n",
      "experience\n",
      "across\n",
      "leveraged\n",
      "finance\n",
      "style\n",
      "transactions\n",
      "both\n",
      "from\n",
      "a\n",
      "research\n",
      "and\n",
      "execution\n",
      "background\n",
      ".\n",
      "On\n",
      "offer\n",
      "will\n",
      "be\n",
      "the\n",
      "opportunity\n",
      "to\n",
      "work\n",
      "in\n",
      "a\n",
      "busy\n",
      ",\n",
      "highly\n",
      "deal\n",
      "driven\n",
      "environment\n",
      ",\n",
      "across\n",
      "various\n",
      "sectors\n",
      ",\n",
      "with\n",
      "an\n",
      "entrepreneurial\n",
      "business\n",
      "team\n",
      "that\n",
      "adapts\n",
      "its\n",
      "model\n",
      "to\n",
      "suit\n",
      "changing\n",
      "conditions\n",
      "constantly\n",
      ".\n",
      "The\n",
      "role\n",
      "will\n",
      "encompass\n",
      ",\n",
      "debt\n",
      "finance\n",
      ",\n",
      "direct\n",
      "lending\n",
      ",\n",
      "and\n",
      "equity\n",
      "investments\n",
      ",\n",
      "and\n",
      "perhaps\n",
      "secondary\n",
      "loan\n",
      "investing\n",
      ".\n",
      "You\n",
      "will\n",
      "be\n",
      "intellectually\n",
      "curious\n",
      ",\n",
      "dynamic\n",
      "and\n",
      "have\n",
      "a\n",
      "natural\n",
      "ability\n",
      "for\n",
      "numbers\n",
      ".\n",
      "Ideally\n",
      "you\n",
      "will\n",
      "have\n",
      "also\n",
      "had\n",
      "deep\n",
      "experience\n",
      "managing\n",
      "stakeholders\n",
      "and\n",
      "working\n",
      "within\n",
      "deal\n",
      "teams\n",
      "on\n",
      "highly\n",
      "complex\n",
      "leveraged\n",
      "transactions\n",
      ".\n",
      "For\n",
      "more\n",
      "information\n",
      "about\n",
      "the\n",
      "firm\n",
      ",\n",
      "culture\n",
      "and\n",
      "opportunity\n",
      "please\n",
      "reach\n",
      "out\n",
      "with\n",
      "an\n",
      "updated\n",
      "copy\n",
      "of\n",
      "CV\n",
      "to\n",
      "Eversearch.(All\n",
      "interviews\n",
      "are\n",
      "being\n",
      "conducted\n",
      "remotely\n",
      "and\n",
      "our\n",
      "client\n",
      "has\n",
      "confirmed\n",
      "progression\n",
      "to\n",
      "offer\n",
      "without\n",
      "physical\n",
      "meetings).Job\n",
      "Types\n",
      ":\n",
      "Full\n",
      "-\n",
      "time\n",
      ",\n",
      "PermanentSalary\n",
      ":\n",
      "£\n",
      "65,000.00\n",
      "to\n",
      "£\n",
      "80,000.00\n",
      "/yearExperience\n",
      ":\n",
      "Credit\n",
      "Analysis\n",
      ":\n",
      "1\n",
      "year\n",
      "(\n",
      "Preferred\n",
      ")\n"
     ]
    }
   ],
   "source": [
    "for token in docbv:\n",
    "    print(token.text)"
   ]
  },
  {
   "cell_type": "code",
   "execution_count": null,
   "metadata": {},
   "outputs": [],
   "source": []
  }
 ],
 "metadata": {
  "kernelspec": {
   "display_name": "Python 3",
   "language": "python",
   "name": "python3"
  },
  "language_info": {
   "codemirror_mode": {
    "name": "ipython",
    "version": 3
   },
   "file_extension": ".py",
   "mimetype": "text/x-python",
   "name": "python",
   "nbconvert_exporter": "python",
   "pygments_lexer": "ipython3",
   "version": "3.7.5"
  }
 },
 "nbformat": 4,
 "nbformat_minor": 2
}
