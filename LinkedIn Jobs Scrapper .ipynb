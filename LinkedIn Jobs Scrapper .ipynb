{
 "cells": [
  {
   "cell_type": "markdown",
   "metadata": {},
   "source": [
    "## LinkedIn Jobs Scrapper in Python"
   ]
  },
  {
   "cell_type": "code",
   "execution_count": 263,
   "metadata": {},
   "outputs": [],
   "source": [
    "import requests, time, random\n",
    "import pandas as pd\n",
    "import os\n",
    "from bs4 import BeautifulSoup\n",
    "from selenium import webdriver\n",
    "from tqdm import tqdm_notebook\n",
    "import pickle"
   ]
  },
  {
   "cell_type": "code",
   "execution_count": 264,
   "metadata": {},
   "outputs": [],
   "source": [
    "# Подключаемся и авторизуемся\n",
    "\n",
    "browser = webdriver.Chrome('driver/chromedriver')\n",
    "browser.get('https://www.linkedin.com/uas/login')\n",
    "\n",
    "username = 'alev4enko@mail.ru'\n",
    "password = 'Alex1324!'\n",
    "\n",
    "# username = 'supermariolanza@gmail.com'\n",
    "# password = 'supermariolanza'\n",
    "\n",
    "elementID = browser.find_element_by_id('username')\n",
    "elementID.send_keys(username)\n",
    "\n",
    "elementID = browser.find_element_by_id('password')\n",
    "elementID.send_keys(password)\n",
    "\n",
    "elementID.submit()"
   ]
  },
  {
   "cell_type": "markdown",
   "metadata": {},
   "source": [
    "# Поиск вакансий по запросу"
   ]
  },
  {
   "cell_type": "code",
   "execution_count": 266,
   "metadata": {},
   "outputs": [],
   "source": [
    "# Talent Acquisition manager / t&d manager /\n",
    "# Hr director / HRBP\n",
    "\n",
    "link = 'https://www.linkedin.com/jobs/search/?keywords=Talent%20Acquisition%20manager&location=United%20States'\n",
    "link1 = 'https://www.linkedin.com/jobs/search/?geoId=103644278&keywords=hr%20manager&location=United%20States'\n",
    "link2 = 'https://www.linkedin.com/jobs/search/?geoId=103644278&keywords=Hr%20director%20&location=United%20States'\n",
    "link3 = 'https://www.linkedin.com/jobs/search/?geoId=103644278&keywords=hr%20HRBP&location=United%20States'\n",
    "link4 = 'https://www.linkedin.com/jobs/search/?keywords=Learning%20and%20Development%20manager'"
   ]
  },
  {
   "cell_type": "code",
   "execution_count": 262,
   "metadata": {},
   "outputs": [],
   "source": [
    "alljoblinks = []"
   ]
  },
  {
   "cell_type": "code",
   "execution_count": 287,
   "metadata": {},
   "outputs": [],
   "source": [
    "browser.get(link4)\n",
    "scroller()"
   ]
  },
  {
   "cell_type": "code",
   "execution_count": 290,
   "metadata": {},
   "outputs": [],
   "source": [
    "src = browser.page_source\n",
    "soup = BeautifulSoup(src, 'lxml')"
   ]
  },
  {
   "cell_type": "code",
   "execution_count": null,
   "metadata": {},
   "outputs": [],
   "source": []
  },
  {
   "cell_type": "code",
   "execution_count": 291,
   "metadata": {},
   "outputs": [],
   "source": [
    "joblink_ids = get_link_ids(soup)\n",
    "joblinks = get_joblinks(joblink_ids)\n",
    "alljoblinks.extend(joblinks)"
   ]
  },
  {
   "cell_type": "code",
   "execution_count": 292,
   "metadata": {},
   "outputs": [],
   "source": [
    "save_model('alljoblinks','',alljoblinks)"
   ]
  },
  {
   "cell_type": "code",
   "execution_count": 293,
   "metadata": {},
   "outputs": [],
   "source": [
    "alljoblinks = list(set(alljoblinks))"
   ]
  },
  {
   "cell_type": "code",
   "execution_count": 294,
   "metadata": {},
   "outputs": [
    {
     "data": {
      "text/plain": [
       "225"
      ]
     },
     "execution_count": 294,
     "metadata": {},
     "output_type": "execute_result"
    }
   ],
   "source": [
    "len(alljoblinks)"
   ]
  },
  {
   "cell_type": "code",
   "execution_count": 296,
   "metadata": {},
   "outputs": [],
   "source": [
    "jobskills = []\n",
    "badlinks = []\n",
    "\n",
    "\n",
    "\n",
    "# jobskills = load_model('', 'jobskills.pickle')\n",
    "jj = [x[0] for x in jobskills]\n",
    "links_to_skan = [x for x in alljoblinks if x[0] not in jj]\n",
    "links_to_skan = [x for x in links_to_skan if x not in badlinks]"
   ]
  },
  {
   "cell_type": "code",
   "execution_count": 297,
   "metadata": {},
   "outputs": [
    {
     "data": {
      "text/plain": [
       "225"
      ]
     },
     "execution_count": 297,
     "metadata": {},
     "output_type": "execute_result"
    }
   ],
   "source": [
    "len(links_to_skan)"
   ]
  },
  {
   "cell_type": "code",
   "execution_count": 298,
   "metadata": {},
   "outputs": [
    {
     "data": {
      "application/vnd.jupyter.widget-view+json": {
       "model_id": "33b1190325bc421bb532e313bbb8c59a",
       "version_major": 2,
       "version_minor": 0
      },
      "text/plain": [
       "HBox(children=(IntProgress(value=0, max=225), HTML(value='')))"
      ]
     },
     "metadata": {},
     "output_type": "display_data"
    },
    {
     "name": "stdout",
     "output_type": "stream",
     "text": [
      "https://www.linkedin.com/jobs/view/1709963455/?eBP=NotAvailableFromVoyagerAPI&recommendedFlavor=HIDDEN_GEM&refId=ae6eff83-3e9e-4249-a383-e13a400ca113&trk=d_flagship3_search_srp_jobs\n",
      "\n"
     ]
    }
   ],
   "source": [
    "for jlink in tqdm_notebook(links_to_skan):\n",
    "    browser.get(jlink)\n",
    "#     scroller()\n",
    "    time.sleep(1)\n",
    "    src = browser.page_source\n",
    "    soup = BeautifulSoup(src, 'lxml')\n",
    "    try:\n",
    "        jtitle = soup.find('h1', {'class':'jobs-top-card__job-title t-24'}).text\n",
    "        jskills = get_job_skills(soup)\n",
    "        jobskills.append([jlink,jtitle,jskills])\n",
    "        save_model('jobskills','',jobskills)\n",
    "    except AttributeError:\n",
    "        print(jlink)\n",
    "        badlinks.append(jlink)\n",
    "        \n",
    "    "
   ]
  },
  {
   "cell_type": "code",
   "execution_count": null,
   "metadata": {},
   "outputs": [],
   "source": [
    "# jskills"
   ]
  },
  {
   "cell_type": "code",
   "execution_count": 251,
   "metadata": {},
   "outputs": [
    {
     "data": {
      "text/html": [
       "<div>\n",
       "<style scoped>\n",
       "    .dataframe tbody tr th:only-of-type {\n",
       "        vertical-align: middle;\n",
       "    }\n",
       "\n",
       "    .dataframe tbody tr th {\n",
       "        vertical-align: top;\n",
       "    }\n",
       "\n",
       "    .dataframe thead th {\n",
       "        text-align: right;\n",
       "    }\n",
       "</style>\n",
       "<table border=\"1\" class=\"dataframe\">\n",
       "  <thead>\n",
       "    <tr style=\"text-align: right;\">\n",
       "      <th></th>\n",
       "      <th>0</th>\n",
       "      <th>1</th>\n",
       "      <th>2</th>\n",
       "    </tr>\n",
       "  </thead>\n",
       "  <tbody>\n",
       "    <tr>\n",
       "      <th>0</th>\n",
       "      <td>https://www.linkedin.com/jobs/view/1747011385/...</td>\n",
       "      <td>Director of HR</td>\n",
       "      <td>[Human Resources (HR), Senior Professional in ...</td>\n",
       "    </tr>\n",
       "    <tr>\n",
       "      <th>1</th>\n",
       "      <td>https://www.linkedin.com/jobs/view/1702361331/...</td>\n",
       "      <td>Talent Acquisition Manager</td>\n",
       "      <td>[Sourcing, Data Analysis, Communication, Full-...</td>\n",
       "    </tr>\n",
       "    <tr>\n",
       "      <th>2</th>\n",
       "      <td>https://www.linkedin.com/jobs/view/1752758686/...</td>\n",
       "      <td>Recruiter- Talent Acquisition Manager</td>\n",
       "      <td>[Onboarding, Customer Support, HITRUST, Job Po...</td>\n",
       "    </tr>\n",
       "    <tr>\n",
       "      <th>3</th>\n",
       "      <td>https://www.linkedin.com/jobs/view/1569867889/...</td>\n",
       "      <td>HR Director</td>\n",
       "      <td>[Human Resources (HR), Talent Management, Labo...</td>\n",
       "    </tr>\n",
       "    <tr>\n",
       "      <th>4</th>\n",
       "      <td>https://www.linkedin.com/jobs/view/1756636618/...</td>\n",
       "      <td>HR Manager</td>\n",
       "      <td>[Process Improvement, Labor Relations, SAP Suc...</td>\n",
       "    </tr>\n",
       "    <tr>\n",
       "      <th>5</th>\n",
       "      <td>https://www.linkedin.com/jobs/view/1578220186/...</td>\n",
       "      <td>Human Resources Manager</td>\n",
       "      <td>[Human Resources (HR), Reporting &amp; Analysis, T...</td>\n",
       "    </tr>\n",
       "    <tr>\n",
       "      <th>6</th>\n",
       "      <td>https://www.linkedin.com/jobs/view/1747011385/...</td>\n",
       "      <td>Director of HR</td>\n",
       "      <td>[Human Resources (HR), Senior Professional in ...</td>\n",
       "    </tr>\n",
       "    <tr>\n",
       "      <th>7</th>\n",
       "      <td>https://www.linkedin.com/jobs/view/1702361331/...</td>\n",
       "      <td>Talent Acquisition Manager</td>\n",
       "      <td>[Sourcing, Data Analysis, Communication, Full-...</td>\n",
       "    </tr>\n",
       "    <tr>\n",
       "      <th>8</th>\n",
       "      <td>https://www.linkedin.com/jobs/view/1752758686/...</td>\n",
       "      <td>Recruiter- Talent Acquisition Manager</td>\n",
       "      <td>[Onboarding, Customer Support, HITRUST, Job Po...</td>\n",
       "    </tr>\n",
       "    <tr>\n",
       "      <th>9</th>\n",
       "      <td>https://www.linkedin.com/jobs/view/1569867889/...</td>\n",
       "      <td>HR Director</td>\n",
       "      <td>[Human Resources (HR), Talent Management, Labo...</td>\n",
       "    </tr>\n",
       "    <tr>\n",
       "      <th>10</th>\n",
       "      <td>https://www.linkedin.com/jobs/view/1756636618/...</td>\n",
       "      <td>HR Manager</td>\n",
       "      <td>[Process Improvement, Labor Relations, SAP Suc...</td>\n",
       "    </tr>\n",
       "    <tr>\n",
       "      <th>11</th>\n",
       "      <td>https://www.linkedin.com/jobs/view/1578220186/...</td>\n",
       "      <td>Human Resources Manager</td>\n",
       "      <td>[Human Resources (HR), Reporting &amp; Analysis, T...</td>\n",
       "    </tr>\n",
       "    <tr>\n",
       "      <th>12</th>\n",
       "      <td>https://www.linkedin.com/jobs/view/1735993965/...</td>\n",
       "      <td>Human Resources Director</td>\n",
       "      <td>[Human Resources (HR), Process Improvement, La...</td>\n",
       "    </tr>\n",
       "    <tr>\n",
       "      <th>13</th>\n",
       "      <td>https://www.linkedin.com/jobs/view/1707056955/...</td>\n",
       "      <td>Talent Acquisition Manager</td>\n",
       "      <td>[Human Resources (HR), Labor and Employment La...</td>\n",
       "    </tr>\n",
       "  </tbody>\n",
       "</table>\n",
       "</div>"
      ],
      "text/plain": [
       "                                                    0  \\\n",
       "0   https://www.linkedin.com/jobs/view/1747011385/...   \n",
       "1   https://www.linkedin.com/jobs/view/1702361331/...   \n",
       "2   https://www.linkedin.com/jobs/view/1752758686/...   \n",
       "3   https://www.linkedin.com/jobs/view/1569867889/...   \n",
       "4   https://www.linkedin.com/jobs/view/1756636618/...   \n",
       "5   https://www.linkedin.com/jobs/view/1578220186/...   \n",
       "6   https://www.linkedin.com/jobs/view/1747011385/...   \n",
       "7   https://www.linkedin.com/jobs/view/1702361331/...   \n",
       "8   https://www.linkedin.com/jobs/view/1752758686/...   \n",
       "9   https://www.linkedin.com/jobs/view/1569867889/...   \n",
       "10  https://www.linkedin.com/jobs/view/1756636618/...   \n",
       "11  https://www.linkedin.com/jobs/view/1578220186/...   \n",
       "12  https://www.linkedin.com/jobs/view/1735993965/...   \n",
       "13  https://www.linkedin.com/jobs/view/1707056955/...   \n",
       "\n",
       "                                        1  \\\n",
       "0                          Director of HR   \n",
       "1              Talent Acquisition Manager   \n",
       "2   Recruiter- Talent Acquisition Manager   \n",
       "3                             HR Director   \n",
       "4                              HR Manager   \n",
       "5                 Human Resources Manager   \n",
       "6                          Director of HR   \n",
       "7              Talent Acquisition Manager   \n",
       "8   Recruiter- Talent Acquisition Manager   \n",
       "9                             HR Director   \n",
       "10                             HR Manager   \n",
       "11                Human Resources Manager   \n",
       "12               Human Resources Director   \n",
       "13             Talent Acquisition Manager   \n",
       "\n",
       "                                                    2  \n",
       "0   [Human Resources (HR), Senior Professional in ...  \n",
       "1   [Sourcing, Data Analysis, Communication, Full-...  \n",
       "2   [Onboarding, Customer Support, HITRUST, Job Po...  \n",
       "3   [Human Resources (HR), Talent Management, Labo...  \n",
       "4   [Process Improvement, Labor Relations, SAP Suc...  \n",
       "5   [Human Resources (HR), Reporting & Analysis, T...  \n",
       "6   [Human Resources (HR), Senior Professional in ...  \n",
       "7   [Sourcing, Data Analysis, Communication, Full-...  \n",
       "8   [Onboarding, Customer Support, HITRUST, Job Po...  \n",
       "9   [Human Resources (HR), Talent Management, Labo...  \n",
       "10  [Process Improvement, Labor Relations, SAP Suc...  \n",
       "11  [Human Resources (HR), Reporting & Analysis, T...  \n",
       "12  [Human Resources (HR), Process Improvement, La...  \n",
       "13  [Human Resources (HR), Labor and Employment La...  "
      ]
     },
     "execution_count": 251,
     "metadata": {},
     "output_type": "execute_result"
    }
   ],
   "source": [
    "pd.DataFrame(jobskills)"
   ]
  },
  {
   "cell_type": "code",
   "execution_count": 250,
   "metadata": {},
   "outputs": [],
   "source": [
    "jobskills = [x for x in jobskills if x[-1] is not None]"
   ]
  },
  {
   "cell_type": "code",
   "execution_count": 143,
   "metadata": {},
   "outputs": [],
   "source": [
    "save_model('Talent_Acquisition','',alljoblinks)"
   ]
  },
  {
   "cell_type": "markdown",
   "metadata": {},
   "source": [
    "# Functions"
   ]
  },
  {
   "cell_type": "code",
   "execution_count": 69,
   "metadata": {},
   "outputs": [],
   "source": [
    "def get_link_ids(soup):\n",
    "    cls_a = 'job-card-search__link-wrapper js-focusable disabled ember-view'\n",
    "    links = soup.find_all('a', {'class':cls_a})\n",
    "    link_ids = []\n",
    "    if len(links) > 0:\n",
    "        for el in links:\n",
    "            if el.attrs.get('id') is not None:\n",
    "                link_ids.append(el.attrs['id'])\n",
    "        return link_ids\n",
    "    else:\n",
    "        return None"
   ]
  },
  {
   "cell_type": "code",
   "execution_count": 267,
   "metadata": {},
   "outputs": [],
   "source": [
    "def get_joblinks(joblink_ids):\n",
    "    homelink = 'https://www.linkedin.com'\n",
    "    links = []\n",
    "    for lid in joblink_ids:\n",
    "        rlink = soup.find('a', {'id':lid}).attrs['href']\n",
    "        fulllink = homelink + rlink\n",
    "        links.append(fulllink)\n",
    "    return links"
   ]
  },
  {
   "cell_type": "code",
   "execution_count": 268,
   "metadata": {},
   "outputs": [],
   "source": [
    "def get_job_skills(soup):\n",
    "    cls = 'jobs-ppc-criteria__list jobs-ppc-criteria__list--skills jobs-ppc-criteria__list--is-last js-criteria-skills list-style-none'\n",
    "    cls_sp = 'jobs-ppc-criteria__value t-14 t-black t-normal ml2 block'\n",
    "    ul = soup.find('ul', {'class':cls})\n",
    "    if ul is not None:\n",
    "        skills = [el.find('span',{'class':cls_sp}).text.strip() for el in ul.find_all('li')]\n",
    "        return skills\n",
    "    else :\n",
    "        return None"
   ]
  },
  {
   "cell_type": "code",
   "execution_count": 270,
   "metadata": {},
   "outputs": [],
   "source": [
    "def get_hidden_skills(soup):\n",
    "    \"\"\" \n",
    "    Достает скрытые навыми\n",
    "    \"\"\"\n",
    "    \n",
    "    div_cls = \"pv-skill-categories-section__expanded\"\n",
    "    a_cls = \"display-block full-width ember-view\"\n",
    "    div_new = soup.find('div', {'class':div_cls})\n",
    "    lis = div_new.find_all('a', {'class':a_cls} )\n",
    "    hidden_skills = [el.text.strip() for el in lis]\n",
    "    \n",
    "    return hidden_skills\n",
    "\n",
    "def profile_links_saver(profile_pages,kw,region):\n",
    "    \n",
    "    \"\"\" Сохраняет ссылки на профили в csv файл \"\"\"\n",
    "    \n",
    "    list_of_profs = []\n",
    "    \n",
    "    for prof in profile_pages:\n",
    "        list_of_profs.append([kw,region,prof])\n",
    "\n",
    "    prof_df = pd.DataFrame(\n",
    "                 list_of_profs,\n",
    "                 columns=['keyword','region', 'url']\n",
    "                 )\n",
    "    fpath = f'p_links_{kw}_{region}.csv'\n",
    "    prof_df.to_csv(fpath,index=False)\n",
    "    return prof_df\n",
    "    \n",
    "\n",
    "def searcher(kw, region, rangestart=1, rangestop=100):\n",
    "    \n",
    "    \"\"\" Собирает ссылки на профили по результатам поиска \"\"\"\n",
    "    c = 0 \n",
    "    profile_pages = []\n",
    "    for i in tqdm_notebook(range(rangestart,rangestop)):\n",
    "        searchlink = get_search_link(kw, region, i)\n",
    "        browser.get(searchlink)\n",
    "        scroller()\n",
    "        src = browser.page_source\n",
    "        soup = BeautifulSoup(src, 'lxml')\n",
    "        try:\n",
    "            profile_pages.extend(get_profile_urls(soup))\n",
    "        except AttributeError:\n",
    "            print('AttributeError', i)\n",
    "            c += 1\n",
    "            if c > 3:\n",
    "                break\n",
    "    \n",
    "    profile_pages = list(set(profile_pages))\n",
    "    return profile_pages\n",
    "\n",
    "def get_profile_urls(soup):\n",
    "    \n",
    "    \"\"\" Достает ссылки на профили из супа результата поиска \"\"\"\n",
    "    \n",
    "    profile_links = soup.find('ul',\n",
    "                  {'class':\"search-results__list list-style-none\"}\n",
    "                         ).find_all('a')\n",
    "    urls = []\n",
    "    for el in profile_links:\n",
    "        upart = el.attrs['href']\n",
    "        url = 'https://www.linkedin.com'\n",
    "        url += upart\n",
    "        urls.append(url)\n",
    "    #     print(url)\n",
    "    urls = list(set(urls))\n",
    "    return urls\n",
    "    \n",
    "\n",
    "def get_search_link(kw, region,page_num=None):\n",
    "    \n",
    "    \"\"\" Формирует ссылку для поиска \"\"\"\n",
    "    \n",
    "    link = 'https://www.linkedin.com/search/results/people/'\n",
    "    link += f'?facetGeoRegion=%5B%22{region}%3A0%22%5D&'\n",
    "    link += f'keywords={kw}'\n",
    "    link += '&origin=FACETED_SEARCH'\n",
    "    if page_num not in [None, 0,1]:\n",
    "        link += f'&page={page_num}'\n",
    "    return link\n",
    "    \n",
    "\n",
    "def get_name(soup):\n",
    "    \n",
    "    \"\"\" Достаем имя пользователя \"\"\"\n",
    "    \n",
    "    name_div = soup.find('div', {'class': 'flex-1 mr5'})\n",
    "    name_div\n",
    "    name_loc = name_div.find_all('ul')\n",
    "    name = name_loc[0].find('li').get_text().strip()\n",
    "    return name\n",
    "\n",
    "def get_jobtitle(soup):\n",
    "    \n",
    "    \"\"\" Достаем название позиции \"\"\"\n",
    "    \n",
    "    exp_section = soup.find('section', {'id': 'experience-section'})\n",
    "    if exp_section is None:\n",
    "        raise AttributeError\n",
    "    else:\n",
    "        exp_section = exp_section.find('ul')\n",
    "        li_tags = exp_section.find('div')\n",
    "        a_tags = li_tags.find('a')\n",
    "        job_title = a_tags.find('h3').get_text().strip()\n",
    "        return job_title\n",
    "\n",
    "def get_skills(soup):\n",
    "    \n",
    "    \"\"\" Достаем навыки пользователя \"\"\" \n",
    "    \n",
    "    spclass = \"pv-skill-category-entity__name-text t-16 t-black t-bold\"\n",
    "    skill_cls = 'pv-profile-section pv-skill-categories-section artdeco-container-card ember-view'\n",
    "    sk = soup.find('section', {'class': skill_cls}).findAll(\"span\", {\"class\": spclass})\n",
    "    skills = []\n",
    "    for el in sk:\n",
    "        skills.append(el.text.strip())\n",
    "    return skills\n",
    "\n",
    "def user_info(soup):\n",
    "    \"\"\" Возвращает список данных о пользователе\"\"\"\n",
    "    user_info = []\n",
    "    user_info.append(get_name(soup))\n",
    "    user_info.append(get_jobtitle(soup))\n",
    "    open_skills = get_skills(soup)\n",
    "    hidden_skills = get_hidden_skills(soup)\n",
    "    skills_dict = {'open skills':open_skills, 'hidden skills' :hidden_skills}\n",
    "    user_info.append(skills_dict)\n",
    "    \n",
    "    return user_info\n",
    "\n",
    "def scroller():\n",
    "    \n",
    "    \"\"\" Скроллим экран \"\"\"\n",
    "    \n",
    "    SCROLL_PAUSE_TIME = 1\n",
    "    # Get scroll height\n",
    "    last_height = browser.execute_script(\"return document.body.scrollHeight\")\n",
    "    for st in range(0,last_height,400):\n",
    "        time.sleep(0.2)\n",
    "        browser.execute_script(f\"window.scrollTo(0,{st});\")\n",
    "    # Wait to load page\n",
    "    time.sleep(SCROLL_PAUSE_TIME)\n",
    "\n",
    "def click_see_more():\n",
    "    src = browser.page_source\n",
    "    soup = BeautifulSoup(src, 'lxml')\n",
    "    spclass = \"pv-skill-category-entity__name-text t-16 t-black t-bold\"\n",
    "    skill_cls = 'pv-profile-section pv-skill-categories-section artdeco-container-card ember-view'\n",
    "    div = soup.find('section', {'class': skill_cls}).find('div', \n",
    "                                               {'class':\"ember-view\"}\n",
    "                                               )\n",
    "    try:\n",
    "        if div.attrs.get('id') is not None:\n",
    "            div_id = div.attrs.get('id')\n",
    "            browser.find_element_by_id(div_id).click()\n",
    "    except AttributeError:\n",
    "        return None\n",
    "   \n",
    "    \n",
    "\n",
    "def find_see_more(soup):\n",
    "    spclass = \"pv-skill-category-entity__name-text t-16 t-black t-bold\"\n",
    "    skill_cls = 'pv-profile-section pv-skill-categories-section artdeco-container-card ember-view'\n",
    "    div = soup.find('section', {'class': skill_cls}).find('div', \n",
    "                                               {'class':\"ember-view\"}\n",
    "                                               )\n",
    "    try:\n",
    "        if div.attrs.get('id') is not None:\n",
    "            div_id = div.attrs.get('id')\n",
    "            element = browser.find_element_by_id(div_id)\n",
    "            return element.location['y']\n",
    "    except AttributeError:\n",
    "        return None\n",
    "        \n",
    "        \n",
    "\n",
    "def scroller_back():\n",
    "    \n",
    "    \"\"\" Скроллим экран \"\"\"\n",
    "    \n",
    "    SCROLL_PAUSE_TIME = 1\n",
    "    # Get scroll height\n",
    "    \n",
    "    last_height = find_see_more(soup)\n",
    "    if last_height is None:\n",
    "        return None\n",
    "    else:\n",
    "        for st in range(0, last_height - 400 ,200):\n",
    "            time.sleep(0.2)\n",
    "            browser.execute_script(f\"window.scrollTo(0,{st});\")\n",
    "        # Wait to load page\n",
    "        time.sleep(SCROLL_PAUSE_TIME)\n",
    "\n",
    "def save_model(model_name, folder_name, model):\n",
    "    '''\n",
    "    Сохраняем объекты в pickle\n",
    "    '''\n",
    "\n",
    "    fname = model_name + '.pickle'\n",
    "    fpath = os.path.join(folder_name, fname)\n",
    "    with open(fpath, 'wb') as f:\n",
    "        pickle.dump(model,f)\n",
    "#     print(fname + '...done!')\n",
    "\n",
    "def load_model(model_folder, filename):\n",
    "    '''\n",
    "    Загружаем объекты из pickle\n",
    "    '''\n",
    "\n",
    "    with open(os.path.join(model_folder,filename), 'rb') as f:\n",
    "        loaded_model = pickle.load(f)\n",
    "    return loaded_model"
   ]
  },
  {
   "cell_type": "code",
   "execution_count": 703,
   "metadata": {},
   "outputs": [
    {
     "data": {
      "text/plain": [
       "3369"
      ]
     },
     "execution_count": 703,
     "metadata": {},
     "output_type": "execute_result"
    }
   ],
   "source": [
    "src = browser.page_source\n",
    "soup = BeautifulSoup(src, 'lxml')\n",
    "find_see_more(soup)"
   ]
  },
  {
   "cell_type": "code",
   "execution_count": 700,
   "metadata": {},
   "outputs": [
    {
     "data": {
      "text/plain": [
       "4668"
      ]
     },
     "execution_count": 700,
     "metadata": {},
     "output_type": "execute_result"
    }
   ],
   "source": [
    "browser.execute_script(\"return document.body.scrollHeight\")"
   ]
  },
  {
   "cell_type": "code",
   "execution_count": null,
   "metadata": {},
   "outputs": [],
   "source": []
  },
  {
   "cell_type": "code",
   "execution_count": null,
   "metadata": {},
   "outputs": [],
   "source": []
  },
  {
   "cell_type": "code",
   "execution_count": 628,
   "metadata": {},
   "outputs": [],
   "source": [
    "div = soup.find('section', {'class': skill_cls}).find('div', \n",
    "                                               {'class':\"ember-view\"}\n",
    "                                               )"
   ]
  },
  {
   "cell_type": "code",
   "execution_count": 635,
   "metadata": {
    "scrolled": true
   },
   "outputs": [
    {
     "name": "stdout",
     "output_type": "stream",
     "text": [
      "ember593\n"
     ]
    }
   ],
   "source": [
    "if div.attrs.get('id') is not None:\n",
    "    div_id = div.attrs.get('id')\n",
    "    print(div.attrs.get('id'))"
   ]
  },
  {
   "cell_type": "code",
   "execution_count": 624,
   "metadata": {},
   "outputs": [],
   "source": [
    "spclass = \"pv-skill-category-entity__name-text t-16 t-black t-bold\"\n",
    "skill_cls = 'pv-profile-section pv-skill-categories-section artdeco-container-card ember-view'\n",
    "sk = soup.find('section', {'class': skill_cls}).findAll(\"span\", {\"class\": spclass})\n"
   ]
  },
  {
   "cell_type": "code",
   "execution_count": 639,
   "metadata": {},
   "outputs": [],
   "source": [
    "src = browser.page_source\n",
    "soup = BeautifulSoup(src, 'lxml')"
   ]
  },
  {
   "cell_type": "code",
   "execution_count": 708,
   "metadata": {},
   "outputs": [],
   "source": [
    "# soup"
   ]
  },
  {
   "cell_type": "code",
   "execution_count": 655,
   "metadata": {},
   "outputs": [],
   "source": [
    "div_new = soup.find('div', {'class':\"pv-skill-categories-section__expanded\" })\n",
    "h3s = div_new.find_all('h3')\n",
    "\n",
    "\n",
    "\n"
   ]
  },
  {
   "cell_type": "code",
   "execution_count": 654,
   "metadata": {},
   "outputs": [
    {
     "data": {
      "text/plain": [
       "'\\n'"
      ]
     },
     "execution_count": 654,
     "metadata": {},
     "output_type": "execute_result"
    }
   ],
   "source": [
    "div_new.next_element"
   ]
  },
  {
   "cell_type": "code",
   "execution_count": 656,
   "metadata": {},
   "outputs": [
    {
     "name": "stdout",
     "output_type": "stream",
     "text": [
      "Industry Knowledge\n",
      "Tools & Technologies\n",
      "Interpersonal Skills\n",
      "Languages\n",
      "Other Skills\n"
     ]
    }
   ],
   "source": [
    "for el in h3s:\n",
    "    print(el.text.strip())"
   ]
  },
  {
   "cell_type": "code",
   "execution_count": 666,
   "metadata": {},
   "outputs": [],
   "source": [
    "lis = div_new.find_all('a', {'class':\"display-block full-width ember-view\"})"
   ]
  },
  {
   "cell_type": "code",
   "execution_count": 667,
   "metadata": {},
   "outputs": [
    {
     "name": "stdout",
     "output_type": "stream",
     "text": [
      "Social Networking\n",
      "Social Media\n",
      "PowerPoint\n",
      "Microsoft Office\n",
      "Microsoft Excel\n",
      "Microsoft PowerPoint\n",
      "Time Management\n",
      "Teamwork\n"
     ]
    }
   ],
   "source": [
    "for el in lis:\n",
    "    print(el.text.strip())"
   ]
  },
  {
   "cell_type": "code",
   "execution_count": 670,
   "metadata": {},
   "outputs": [
    {
     "data": {
      "text/plain": [
       "['Social Networking',\n",
       " 'Social Media',\n",
       " 'PowerPoint',\n",
       " 'Microsoft Office',\n",
       " 'Microsoft Excel',\n",
       " 'Microsoft PowerPoint',\n",
       " 'Time Management',\n",
       " 'Teamwork']"
      ]
     },
     "execution_count": 670,
     "metadata": {},
     "output_type": "execute_result"
    }
   ],
   "source": [
    "get_hidden_skills(soup)"
   ]
  },
  {
   "cell_type": "code",
   "execution_count": null,
   "metadata": {},
   "outputs": [],
   "source": []
  }
 ],
 "metadata": {
  "kernelspec": {
   "display_name": "Python 3",
   "language": "python",
   "name": "python3"
  },
  "language_info": {
   "codemirror_mode": {
    "name": "ipython",
    "version": 3
   },
   "file_extension": ".py",
   "mimetype": "text/x-python",
   "name": "python",
   "nbconvert_exporter": "python",
   "pygments_lexer": "ipython3",
   "version": "3.7.3"
  }
 },
 "nbformat": 4,
 "nbformat_minor": 2
}
