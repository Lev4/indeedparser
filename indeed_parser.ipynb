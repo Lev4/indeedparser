{
 "cells": [
  {
   "cell_type": "code",
   "execution_count": 62,
   "metadata": {},
   "outputs": [],
   "source": [
    "import requests\n",
    "from bs4 import BeautifulSoup"
   ]
  },
  {
   "cell_type": "code",
   "execution_count": 63,
   "metadata": {},
   "outputs": [],
   "source": [
    "url = \"https://ru.indeed.com/jobs?q=data+scientist&l=&ts=1590397223195&rq=1&rsIdx=0\""
   ]
  },
  {
   "cell_type": "code",
   "execution_count": 64,
   "metadata": {},
   "outputs": [],
   "source": [
    "res = requests.get(url)\n",
    "page = res.text\n",
    "soup = BeautifulSoup(page,\"html.parser\")"
   ]
  },
  {
   "cell_type": "code",
   "execution_count": 16,
   "metadata": {},
   "outputs": [],
   "source": [
    "alinks = soup.find_all(\"a\", class_=\"jobtitle turnstileLink\")"
   ]
  },
  {
   "cell_type": "code",
   "execution_count": 70,
   "metadata": {},
   "outputs": [
    {
     "data": {
      "text/plain": [
       "'Страница 1 из 118 вакансий'"
      ]
     },
     "execution_count": 70,
     "metadata": {},
     "output_type": "execute_result"
    }
   ],
   "source": [
    "soup.find(\"div\", {\"id\": \"searchCountPages\"}).text.strip()"
   ]
  },
  {
   "cell_type": "code",
   "execution_count": 73,
   "metadata": {},
   "outputs": [
    {
     "data": {
      "text/plain": [
       "'118'"
      ]
     },
     "execution_count": 73,
     "metadata": {},
     "output_type": "execute_result"
    }
   ],
   "source": [
    "soup.find(\"div\", {\"id\": \"searchCountPages\"}).text.strip().split(' ')[-2]"
   ]
  },
  {
   "cell_type": "code",
   "execution_count": null,
   "metadata": {},
   "outputs": [],
   "source": []
  },
  {
   "cell_type": "code",
   "execution_count": null,
   "metadata": {},
   "outputs": [],
   "source": [
    "# alinks[0][\"href\"]"
   ]
  },
  {
   "cell_type": "code",
   "execution_count": null,
   "metadata": {},
   "outputs": [],
   "source": [
    "<div id=\"searchCount\" class=\"searchCount-a11y-contrast-color\">\n",
    "                <div id=\"searchCountPages\">\n",
    "                    Страница 2 из 622 вакансий</div>\n",
    "\n",
    "                <div class=\"serp-relevance-explanation\"><button class=\"serp-relevance-explanation-helpIcon serp-helpIcon\" type=\"button\" aria-label=\"help icon\"><svg width=\"16\" height=\"16\" xmlns=\"http://www.w3.org/2000/svg\" xmlns:xlink=\"http://www.w3.org/1999/xlink\"><defs><linearGradient x1=\"50%\" y1=\"0%\" x2=\"50%\" y2=\"100%\" id=\"a\"><stop stop-color=\"#FFF\" stop-opacity=\".5\" offset=\"0%\"></stop><stop stop-opacity=\".5\" offset=\"100%\"></stop></linearGradient><linearGradient x1=\"50%\" y1=\"0%\" x2=\"50%\" y2=\"100%\" id=\"b\"><stop stop-opacity=\".5\" offset=\"0%\"></stop><stop stop-opacity=\".5\" offset=\"100%\"></stop></linearGradient><path d=\"M7.1537 3.391C8.373 3.4665 9.3466 4.44 9.4223 5.6594 9.4886 6.7088 8.8736 7.6823 7.9 8.0702c-.1413.0563-.2358.1796-.2358.321v.6619h-1.324v-.662c0-.6894.4162-1.2944 1.0687-1.5497.4442-.1795.7283-.6244.6995-1.0968-.0382-.548-.4824-.9922-1.0304-1.0304-.3116-.0282-.605.085-.8315.2934-.2271.2077-.3504.4911-.3504.8034v.662H4.5728v-.662c0-.662.2834-1.3146.7658-1.7682.4911-.463 1.1343-.6995 1.815-.6519zM6.33 10.22c0-.368.2586-.6649.6606-.6683.004 0 .0047-.002.006-.002h.0114v.004c.412.0157.662.3064.662.6656-.0087.3736-.2566.6595-.662.667-.0013.0034-.0033.002-.0053.002-.0034 0-.006.0014-.008.0014-.0027 0-.0027-.0014-.004-.0014-.4-.0142-.6607-.2981-.6607-.6683zM1.6407 7c0-2.9554 2.4046-5.36 5.36-5.36 2.9553 0 5.36 2.4046 5.36 5.36 0 2.9554-2.4047 5.36-5.36 5.36-2.9554 0-5.36-2.4046-5.36-5.36zM.3 7c0 3.6997 3.0003 6.7 6.7 6.7 3.7004 0 6.7-3.0003 6.7-6.7C13.7 3.2996 10.7004.3 7 .3 3.3003.3.3 3.2996.3 7z\" id=\"c\"></path></defs><g fill=\"none\" fill-rule=\"evenodd\"><g fill-rule=\"nonzero\"><path d=\"M8.1537 4.391c1.2194.0756 2.1929 1.0491 2.2686 2.2685.0663 1.0493-.5487 2.0228-1.5223 2.4107-.1413.0563-.2358.1796-.2358.321v.6619h-1.324v-.662c0-.6894.4162-1.2944 1.0687-1.5497.4442-.1795.7283-.6244.6995-1.0968-.0382-.548-.4824-.9922-1.0304-1.0304-.3116-.0282-.605.085-.8315.2934-.2271.2077-.3504.4911-.3504.8034v.662H5.5728v-.662c0-.662.2834-1.3146.7658-1.7682.4911-.463 1.1343-.6995 1.815-.6519zM7.33 11.22c0-.368.2586-.6649.6606-.6683.004 0 .0047-.002.006-.002h.0114v.004c.412.0157.662.3064.662.6656-.0087.3736-.2566.6595-.662.667-.0013.0034-.0033.002-.0053.002-.0034 0-.006.0014-.008.0014-.0027 0-.0027-.0014-.004-.0014-.4-.0142-.6607-.2981-.6607-.6683zM2.6407 8c0-2.9554 2.4046-5.36 5.36-5.36 2.9553 0 5.36 2.4046 5.36 5.36 0 2.9554-2.4047 5.36-5.36 5.36-2.9554 0-5.36-2.4046-5.36-5.36zM1.3 8c0 3.6997 3.0003 6.7 6.7 6.7 3.7004 0 6.7-3.0003 6.7-6.7 0-3.7004-2.9996-6.7-6.7-6.7-3.6997 0-6.7 2.9996-6.7 6.7z\" fill=\"#D8D8D8\"></path><path d=\"M7.1537 3.391C8.373 3.4665 9.3466 4.44 9.4223 5.6594 9.4886 6.7088 8.8736 7.6823 7.9 8.0702c-.1413.0563-.2358.1796-.2358.321v.6619h-1.324v-.662c0-.6894.4162-1.2944 1.0687-1.5497.4442-.1795.7283-.6244.6995-1.0968-.0382-.548-.4824-.9922-1.0304-1.0304-.3116-.0282-.605.085-.8315.2934-.2271.2077-.3504.4911-.3504.8034v.662H4.5728v-.662c0-.662.2834-1.3146.7658-1.7682.4911-.463 1.1343-.6995 1.815-.6519zM6.33 10.22c0-.368.2586-.6649.6606-.6683.004 0 .0047-.002.006-.002h.0114v.004c.412.0157.662.3064.662.6656-.0087.3736-.2566.6595-.662.667-.0013.0034-.0033.002-.0053.002-.0034 0-.006.0014-.008.0014-.0027 0-.0027-.0014-.004-.0014-.4-.0142-.6607-.2981-.6607-.6683zM1.6407 7c0-2.9554 2.4046-5.36 5.36-5.36 2.9553 0 5.36 2.4046 5.36 5.36 0 2.9554-2.4047 5.36-5.36 5.36-2.9554 0-5.36-2.4046-5.36-5.36zM.3 7c0 3.6997 3.0003 6.7 6.7 6.7 3.7004 0 6.7-3.0003 6.7-6.7C13.7 3.2996 10.7004.3 7 .3 3.3003.3.3 3.2996.3 7z\" fill=\"url(#a)\" transform=\"translate(1 1)\"></path><path d=\"M7.1537 3.391C8.373 3.4665 9.3466 4.44 9.4223 5.6594 9.4886 6.7088 8.8736 7.6823 7.9 8.0702c-.1413.0563-.2358.1796-.2358.321v.6619h-1.324v-.662c0-.6894.4162-1.2944 1.0687-1.5497.4442-.1795.7283-.6244.6995-1.0968-.0382-.548-.4824-.9922-1.0304-1.0304-.3116-.0282-.605.085-.8315.2934-.2271.2077-.3504.4911-.3504.8034v.662H4.5728v-.662c0-.662.2834-1.3146.7658-1.7682.4911-.463 1.1343-.6995 1.815-.6519zM6.33 10.22c0-.368.2586-.6649.6606-.6683.004 0 .0047-.002.006-.002h.0114v.004c.412.0157.662.3064.662.6656-.0087.3736-.2566.6595-.662.667-.0013.0034-.0033.002-.0053.002-.0034 0-.006.0014-.008.0014-.0027 0-.0027-.0014-.004-.0014-.4-.0142-.6607-.2981-.6607-.6683zM1.6407 7c0-2.9554 2.4046-5.36 5.36-5.36 2.9553 0 5.36 2.4046 5.36 5.36 0 2.9554-2.4047 5.36-5.36 5.36-2.9554 0-5.36-2.4046-5.36-5.36zM.3 7c0 3.6997 3.0003 6.7 6.7 6.7 3.7004 0 6.7-3.0003 6.7-6.7C13.7 3.2996 10.7004.3 7 .3 3.3003.3.3 3.2996.3 7z\" fill=\"url(#a)\" transform=\"translate(1 1)\"></path><path d=\"M7.1537 3.391C8.373 3.4665 9.3466 4.44 9.4223 5.6594 9.4886 6.7088 8.8736 7.6823 7.9 8.0702c-.1413.0563-.2358.1796-.2358.321v.6619h-1.324v-.662c0-.6894.4162-1.2944 1.0687-1.5497.4442-.1795.7283-.6244.6995-1.0968-.0382-.548-.4824-.9922-1.0304-1.0304-.3116-.0282-.605.085-.8315.2934-.2271.2077-.3504.4911-.3504.8034v.662H4.5728v-.662c0-.662.2834-1.3146.7658-1.7682.4911-.463 1.1343-.6995 1.815-.6519zM6.33 10.22c0-.368.2586-.6649.6606-.6683.004 0 .0047-.002.006-.002h.0114v.004c.412.0157.662.3064.662.6656-.0087.3736-.2566.6595-.662.667-.0013.0034-.0033.002-.0053.002-.0034 0-.006.0014-.008.0014-.0027 0-.0027-.0014-.004-.0014-.4-.0142-.6607-.2981-.6607-.6683zM1.6407 7c0-2.9554 2.4046-5.36 5.36-5.36 2.9553 0 5.36 2.4046 5.36 5.36 0 2.9554-2.4047 5.36-5.36 5.36-2.9554 0-5.36-2.4046-5.36-5.36zM.3 7c0 3.6997 3.0003 6.7 6.7 6.7 3.7004 0 6.7-3.0003 6.7-6.7C13.7 3.2996 10.7004.3 7 .3 3.3003.3.3 3.2996.3 7z\" fill=\"url(#b)\" transform=\"translate(1 1)\"></path></g><g transform=\"translate(1 1)\"><mask id=\"d\" fill=\"#fff\"><use xlink:href=\"#c\"></use></mask><g mask=\"url(#d)\"><path d=\"M-1-1h16v16H-1z\" fill=\"#6F6F6F\" fill-rule=\"nonzero\"></path></g></g></g></svg></button><div class=\"serp-relevance-explanation-tooltip hidden\"><div class=\"icl-Callout icl-Callout--caretEnd\" role=\"alert\" aria-labelledby=\"callout-heading-1708349897\"><div class=\"icl-Callout-header\"><h3 class=\"icl-Callout-heading\" id=\"callout-heading-1708349897\"></h3><a class=\"icl-CloseButton icl-Callout-close\"><svg role=\"img\" class=\"icl-Icon icl-Icon--sm  icl-Icon--black close\" aria-label=\"dismiss-tooltip\"><g><path d=\"M14.53,4.53L13.47,3.47,9,7.94,4.53,3.47,3.47,4.53,7.94,9,3.47,13.47l1.06,1.06L9,10.06l4.47,4.47,1.06-1.06L10.06,9Z\"></path></g></svg></a></div><div class=\"icl-Callout-content\"><div class=\"jobsearch-ResultsInfo-text\">Здесь отображаются объявления о вакансиях, соответствующие вашему запросу. Indeed может получать за них плату от работодателей, что позволяет сделать сайт бесплатным для соискателей. Indeed подбирает объявления о вакансиях на основе ставок работодателей и релевантности, в том числе с учетом вашего поискового запроса и других действий на сайте Indeed. Дополнительные сведения см. в <a href=\"//www.indeed.com/legal?hl=ru#tosIntro\">Условиях предоставления услуг Indeed</a>.</div></div></div></div></div></div>"
   ]
  },
  {
   "cell_type": "code",
   "execution_count": 25,
   "metadata": {},
   "outputs": [],
   "source": [
    "joblist = []\n",
    "for link in alinks:\n",
    "    joblist.append((link[\"title\"],link[\"href\"]))"
   ]
  },
  {
   "cell_type": "code",
   "execution_count": 26,
   "metadata": {
    "scrolled": true
   },
   "outputs": [
    {
     "data": {
      "text/plain": [
       "[('Data Scientist',\n",
       "  '/rc/clk?jk=c8641c292f958ede&fccid=9f9f3f532ec06ea8&vjs=3'),\n",
       " ('Data Scientist',\n",
       "  '/rc/clk?jk=0832747194d60c13&fccid=f229b354f5d64873&vjs=3'),\n",
       " ('Senior Data scientist',\n",
       "  '/rc/clk?jk=39e801eb7c763816&fccid=9e6cc9e51c2613ab&vjs=3'),\n",
       " ('Scientist', '/rc/clk?jk=c77123b4008ded0b&fccid=e4af9ca5b6d3a604&vjs=3'),\n",
       " ('Data scientist (Центр валидации моделей розничного бизнеса)',\n",
       "  '/rc/clk?jk=a2e5ac28f4ee5314&fccid=9f9f3f532ec06ea8&vjs=3'),\n",
       " ('Data Scientist (NLP, Graph)',\n",
       "  '/rc/clk?jk=55e49d33a1f49cde&fccid=9f9f3f532ec06ea8&vjs=3'),\n",
       " ('Data scientist Дивизион \"Особенные Решения\"',\n",
       "  '/rc/clk?jk=9c17d2c9d43e26a6&fccid=9f9f3f532ec06ea8&vjs=3'),\n",
       " ('Ведущий исследователь данных / data scientist',\n",
       "  '/rc/clk?jk=1f43c640b61b44a3&fccid=9f9f3f532ec06ea8&vjs=3'),\n",
       " ('Data Scientist/ML Engineer',\n",
       "  '/rc/clk?jk=1edfd89f265a1a71&fccid=9f9f3f532ec06ea8&vjs=3'),\n",
       " ('Data scientist (ML), Блок Управление Благосостоянием',\n",
       "  '/rc/clk?jk=2720e3c28d26e05a&fccid=9f9f3f532ec06ea8&vjs=3')]"
      ]
     },
     "execution_count": 26,
     "metadata": {},
     "output_type": "execute_result"
    }
   ],
   "source": [
    "# joblist"
   ]
  },
  {
   "cell_type": "code",
   "execution_count": 27,
   "metadata": {},
   "outputs": [],
   "source": [
    "vacancy_link = \"https://ru.indeed.com\" + joblist[0][1]\n",
    "res = requests.get(vacancy_link)\n",
    "page = res.text\n",
    "soup = BeautifulSoup(page,\"html.parser\")\n",
    "soup.find(\"div\", class_=\"jobsearch-jobDescriptionText\" ).text"
   ]
  },
  {
   "cell_type": "code",
   "execution_count": null,
   "metadata": {},
   "outputs": [],
   "source": [
    "<div class=\"pagination\" onmousedown=\"pclk(event);\">\n",
    "<ul class=\"pagination-list\"><li><b aria-current=\"true\" aria-label=\"1\" tabindex=\"0\">1</b></li><li><a href=\"/jobs?q=data+scientist&amp;start=10\" aria-label=\"2\" data-pp=\"gQAKAAABcksPwRsAAAABgqyr0AAUAQAEbGjy8owwP26ZyLWaBiFSPMoAAwAAAQ\" onmousedown=\"addPPUrlParam &amp;&amp; addPPUrlParam(this);\"><span class=\"pn\">2</span></a></li><li><a href=\"/jobs?q=data+scientist&amp;start=20\" aria-label=\"3\" data-pp=\"gQAUAAABcksPwRsAAAABgqyr0AAbAQEBCVoC5dYg2fIOfqn_oTx3-LoSvp5TEDctAAMAAAE\" onmousedown=\"addPPUrlParam &amp;&amp; addPPUrlParam(this);\"><span class=\"pn\">3</span></a></li><li><a href=\"/jobs?q=data+scientist&amp;start=30\" aria-label=\"4\" data-pp=\"gQAeAAABcksPwRsAAAABgqyr0AAfAQEBDwe27fY3qWm1lljixViLg8wYVFGgPg-cBz38UQADAAAB\" onmousedown=\"addPPUrlParam &amp;&amp; addPPUrlParam(this);\"><span class=\"pn\">4</span></a></li><li><a href=\"/jobs?q=data+scientist&amp;start=40\" aria-label=\"5\" data-pp=\"gQAoAAABcksPwRsAAAABgqyr0AAhAQEBD2DyAmQwhTb2KQdmCH4iitBZfb8F9nE68eVirs3VAAMAAAE\" onmousedown=\"addPPUrlParam &amp;&amp; addPPUrlParam(this);\"><span class=\"pn\">5</span></a></li><li><a href=\"/jobs?q=data+scientist&amp;start=10\" aria-label=\"Следующая\" data-pp=\"gQAKAAABcksPwRsAAAABgqyr0AAUAQAEbGjy8owwP26ZyLWaBiFSPMoAAwAAAQ\" onmousedown=\"addPPUrlParam &amp;&amp; addPPUrlParam(this);\"><span class=\"pn\"><span class=\"np\"><svg width=\"24\" height=\"24\" fill=\"none\"><path d=\"M10 6L8.59 7.41 13.17 12l-4.58 4.59L10 18l6-6-6-6z\" fill=\"#2D2D2D\"></path></svg></span></span></a></li></ul></div>"
   ]
  },
  {
   "cell_type": "code",
   "execution_count": null,
   "metadata": {},
   "outputs": [],
   "source": [
    "<a href=\"/jobs?q=data+scientist&amp;start=10\" aria-label=\"2\" data-pp=\"gQAKAAABcksPwRsAAAABgqyr0AAUAQAEbGjy8owwP26ZyLWaBiFSPMoAAwAAAQ\" onmousedown=\"addPPUrlParam &amp;&amp; addPPUrlParam(this);\"><span class=\"pn\">2</span></a>"
   ]
  },
  {
   "cell_type": "code",
   "execution_count": 44,
   "metadata": {},
   "outputs": [],
   "source": [
    "divs_pagination = soup.find(\"div\", class_=\"pagination\").find_all(\"a\")"
   ]
  },
  {
   "cell_type": "code",
   "execution_count": 50,
   "metadata": {},
   "outputs": [],
   "source": [
    "# fordivs_pagination\n",
    "pagelinks = []\n",
    "for link in divs_pagination:\n",
    "    if link[\"aria-label\"] == 'Следующая':\n",
    "        continue\n",
    "    else:\n",
    "        pagelinks.append((link[\"aria-label\"], link[\"href\"]))"
   ]
  },
  {
   "cell_type": "code",
   "execution_count": 60,
   "metadata": {},
   "outputs": [],
   "source": [
    "# pagelinks"
   ]
  },
  {
   "cell_type": "code",
   "execution_count": null,
   "metadata": {},
   "outputs": [],
   "source": []
  },
  {
   "cell_type": "code",
   "execution_count": null,
   "metadata": {},
   "outputs": [],
   "source": []
  }
 ],
 "metadata": {
  "kernelspec": {
   "display_name": "Python 3",
   "language": "python",
   "name": "python3"
  },
  "language_info": {
   "codemirror_mode": {
    "name": "ipython",
    "version": 3
   },
   "file_extension": ".py",
   "mimetype": "text/x-python",
   "name": "python",
   "nbconvert_exporter": "python",
   "pygments_lexer": "ipython3",
   "version": "3.7.5"
  }
 },
 "nbformat": 4,
 "nbformat_minor": 2
}
